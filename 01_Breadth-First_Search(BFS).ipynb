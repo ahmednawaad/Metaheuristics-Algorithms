{
 "cells": [
  {
   "attachments": {},
   "cell_type": "markdown",
   "metadata": {},
   "source": [
    "# Breadth First Search (BFS) Algorithm\n"
   ]
  },
  {
   "attachments": {},
   "cell_type": "markdown",
   "metadata": {},
   "source": [
    "![](Files/2023-03-10-21-06-52.png)\n",
    "![](Files/2023-03-10-21-45-21.png)"
   ]
  },
  {
   "cell_type": "code",
   "execution_count": 46,
   "metadata": {},
   "outputs": [],
   "source": [
    "# create a node class to create the graph\n",
    "\n",
    "class Node:\n",
    "    def __init__(self,name):\n",
    "        self.name = name\n",
    "        self.adjacency_list = []\n",
    "        self.visited = False"
   ]
  },
  {
   "attachments": {},
   "cell_type": "markdown",
   "metadata": {},
   "source": [
    "![](Files/2023-03-10-21-14-16.png)"
   ]
  },
  {
   "cell_type": "code",
   "execution_count": 57,
   "metadata": {},
   "outputs": [],
   "source": [
    "# Create Nodes\n",
    "node_a = Node(name=\"a\")\n",
    "node_b = Node(name=\"b\")\n",
    "node_c = Node(name=\"c\")\n",
    "node_d = Node(name=\"d\")\n",
    "node_e = Node(name=\"e\")\n",
    "node_f = Node(name=\"f\")\n",
    "node_g = Node(name=\"g\")\n",
    "node_h = Node(name=\"h\")\n",
    "# Add the neighbors\n",
    "node_a.adjacency_list.extend([node_e, node_b, node_g])\n",
    "node_b.adjacency_list.extend([node_a, node_f, node_g, node_h])\n",
    "node_c.adjacency_list.extend([node_b, node_h, node_d])\n",
    "node_d.adjacency_list.extend([node_e, node_c])\n",
    "node_e.adjacency_list.extend([node_a, node_f, node_d])\n",
    "node_f.adjacency_list.extend([node_e, node_b])\n",
    "node_g.adjacency_list.extend([node_a, node_b])\n",
    "node_h.adjacency_list.extend([node_c, node_b])"
   ]
  },
  {
   "cell_type": "code",
   "execution_count": 48,
   "metadata": {},
   "outputs": [],
   "source": [
    "def breadth_first_search(first_node):\n",
    "    # Assign the the first node the queue\n",
    "    queue = [first_node]\n",
    "    # go throughout the queue until it finish\n",
    "    while queue:\n",
    "        current_node = queue.pop(0)\n",
    "        if not current_node.visited:\n",
    "            queue.extend(current_node.adjacency_list)\n",
    "            current_node.visited = True\n",
    "            print(current_node.name)"
   ]
  },
  {
   "cell_type": "code",
   "execution_count": 49,
   "metadata": {},
   "outputs": [
    {
     "name": "stdout",
     "output_type": "stream",
     "text": [
      "a\n",
      "e\n",
      "b\n",
      "g\n",
      "f\n",
      "d\n",
      "h\n",
      "c\n"
     ]
    }
   ],
   "source": [
    "breadth_first_search(node_a)"
   ]
  },
  {
   "cell_type": "code",
   "execution_count": 68,
   "metadata": {},
   "outputs": [],
   "source": [
    "def breadth_first_search_2(first_node):\n",
    "    # Assign the the first node the queue\n",
    "    queue = [first_node]\n",
    "    # go throughout the queue until it finish\n",
    "    while queue:\n",
    "        current_node = queue.pop(0)\n",
    "        current_node.visited = True\n",
    "        print(current_node.name)\n",
    "        # ADD NEIGHBORS TO THE QUEUE\n",
    "        for node in current_node.adjacency_list:\n",
    "            if not node.visited:\n",
    "                queue.append(node)\n",
    "                node.visited = True"
   ]
  },
  {
   "cell_type": "code",
   "execution_count": 69,
   "metadata": {},
   "outputs": [
    {
     "name": "stdout",
     "output_type": "stream",
     "text": [
      "a\n",
      "e\n",
      "b\n",
      "g\n",
      "f\n",
      "d\n",
      "h\n",
      "c\n"
     ]
    }
   ],
   "source": [
    "# Create Nodes\n",
    "node_a = Node(name=\"a\")\n",
    "node_b = Node(name=\"b\")\n",
    "node_c = Node(name=\"c\")\n",
    "node_d = Node(name=\"d\")\n",
    "node_e = Node(name=\"e\")\n",
    "node_f = Node(name=\"f\")\n",
    "node_g = Node(name=\"g\")\n",
    "node_h = Node(name=\"h\")\n",
    "# Add the neighbors\n",
    "node_a.adjacency_list.extend([node_e, node_b, node_g])\n",
    "node_b.adjacency_list.extend([node_a, node_f, node_g, node_h])\n",
    "node_c.adjacency_list.extend([node_b, node_h, node_d])\n",
    "node_d.adjacency_list.extend([node_e, node_c])\n",
    "node_e.adjacency_list.extend([node_a, node_f, node_d])\n",
    "node_f.adjacency_list.extend([node_e, node_b])\n",
    "node_g.adjacency_list.extend([node_a, node_b])\n",
    "node_h.adjacency_list.extend([node_c, node_b])\n",
    "\n",
    "breadth_first_search_2(node_a)"
   ]
  },
  {
   "cell_type": "code",
   "execution_count": null,
   "metadata": {},
   "outputs": [],
   "source": []
  }
 ],
 "metadata": {
  "kernelspec": {
   "display_name": "main",
   "language": "python",
   "name": "python3"
  },
  "language_info": {
   "codemirror_mode": {
    "name": "ipython",
    "version": 3
   },
   "file_extension": ".py",
   "mimetype": "text/x-python",
   "name": "python",
   "nbconvert_exporter": "python",
   "pygments_lexer": "ipython3",
   "version": "3.8.13"
  },
  "orig_nbformat": 4
 },
 "nbformat": 4,
 "nbformat_minor": 2
}
